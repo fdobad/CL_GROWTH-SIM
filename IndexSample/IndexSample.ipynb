{
 "cells": [
  {
   "cell_type": "markdown",
   "id": "a9199abd-e721-48d6-a298-ffca9a160b81",
   "metadata": {},
   "source": [
    "# h1: Titulos grandes\n",
    "\n",
    "## h2: subtitulos no tan grandes"
   ]
  },
  {
   "cell_type": "code",
   "execution_count": null,
   "id": "039ed379-2b4d-4144-b7fd-8ee2bebb4715",
   "metadata": {},
   "outputs": [],
   "source": [
    "2+2"
   ]
  },
  {
   "cell_type": "markdown",
   "id": "02f92339-311a-4780-9bf0-bb5a540a775a",
   "metadata": {},
   "source": [
    "## h2: otro subtitulos no tan grandes\n",
    "### h3: secciones"
   ]
  },
  {
   "cell_type": "code",
   "execution_count": null,
   "id": "c89f2897-bcf2-4d53-94fd-2dc96b146a46",
   "metadata": {},
   "outputs": [],
   "source": [
    "import this"
   ]
  },
  {
   "cell_type": "markdown",
   "id": "f58df698-b686-4210-b0d5-2271ccaf6eb9",
   "metadata": {},
   "source": [
    "### h3 otra seccion\n",
    "1. hola\n",
    "2. que\n",
    "3. tal\n",
    "4. festival\n",
    "#### h4 todavia\n",
    "#### h4 aparece\n",
    "\n",
    "##### h5 ya no aparece\n",
    "# OTRO TEMA\n",
    "## hello"
   ]
  },
  {
   "cell_type": "code",
   "execution_count": null,
   "id": "203576a9-5ec4-4625-818a-de692de90e6f",
   "metadata": {},
   "outputs": [],
   "source": [
    "import __hello__\n",
    "__hello__.main()"
   ]
  },
  {
   "cell_type": "markdown",
   "id": "3bd4cba9-2fa9-47e6-beb3-c604de21829e",
   "metadata": {},
   "source": [
    "## world"
   ]
  },
  {
   "cell_type": "markdown",
   "id": "3befb3d0-cecc-4ff8-b410-b7f3d94101b5",
   "metadata": {},
   "source": [
    "## inserta imagen\n",
    "![img](IndexSample.png)"
   ]
  },
  {
   "cell_type": "code",
   "execution_count": null,
   "id": "e3b6a6d2-4949-4e56-885d-79b165af3456",
   "metadata": {},
   "outputs": [],
   "source": []
  }
 ],
 "metadata": {
  "kernelspec": {
   "display_name": "Python 3 (ipykernel)",
   "language": "python",
   "name": "python3"
  },
  "language_info": {
   "codemirror_mode": {
    "name": "ipython",
    "version": 3
   },
   "file_extension": ".py",
   "mimetype": "text/x-python",
   "name": "python",
   "nbconvert_exporter": "python",
   "pygments_lexer": "ipython3",
   "version": "3.11.2"
  }
 },
 "nbformat": 4,
 "nbformat_minor": 5
}
